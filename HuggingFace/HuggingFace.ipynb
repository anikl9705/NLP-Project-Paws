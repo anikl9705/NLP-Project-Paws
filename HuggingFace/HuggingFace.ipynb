{
  "nbformat": 4,
  "nbformat_minor": 0,
  "metadata": {
    "colab": {
      "name": "HuggingFace.ipynb",
      "provenance": [],
      "collapsed_sections": [
        "QAKkPmVLdZ2C",
        "7BPg3_DtVIYJ"
      ],
      "toc_visible": true
    },
    "kernelspec": {
      "name": "python3",
      "display_name": "Python 3"
    },
    "accelerator": "GPU"
  },
  "cells": [
    {
      "cell_type": "code",
      "metadata": {
        "id": "g7a_-c5fvbWa",
        "colab_type": "code",
        "outputId": "2fe9a78a-5d64-48f4-f02b-02901a7763d8",
        "colab": {
          "base_uri": "https://localhost:8080/",
          "height": 391
        }
      },
      "source": [
        "!pip install transformers"
      ],
      "execution_count": 1,
      "outputs": [
        {
          "output_type": "stream",
          "text": [
            "Requirement already satisfied: transformers in /usr/local/lib/python3.6/dist-packages (2.6.0)\n",
            "Requirement already satisfied: regex!=2019.12.17 in /usr/local/lib/python3.6/dist-packages (from transformers) (2019.12.20)\n",
            "Requirement already satisfied: tokenizers==0.5.2 in /usr/local/lib/python3.6/dist-packages (from transformers) (0.5.2)\n",
            "Requirement already satisfied: sentencepiece in /usr/local/lib/python3.6/dist-packages (from transformers) (0.1.85)\n",
            "Requirement already satisfied: boto3 in /usr/local/lib/python3.6/dist-packages (from transformers) (1.12.26)\n",
            "Requirement already satisfied: filelock in /usr/local/lib/python3.6/dist-packages (from transformers) (3.0.12)\n",
            "Requirement already satisfied: sacremoses in /usr/local/lib/python3.6/dist-packages (from transformers) (0.0.38)\n",
            "Requirement already satisfied: tqdm>=4.27 in /usr/local/lib/python3.6/dist-packages (from transformers) (4.38.0)\n",
            "Requirement already satisfied: numpy in /usr/local/lib/python3.6/dist-packages (from transformers) (1.18.2)\n",
            "Requirement already satisfied: requests in /usr/local/lib/python3.6/dist-packages (from transformers) (2.21.0)\n",
            "Requirement already satisfied: jmespath<1.0.0,>=0.7.1 in /usr/local/lib/python3.6/dist-packages (from boto3->transformers) (0.9.5)\n",
            "Requirement already satisfied: botocore<1.16.0,>=1.15.26 in /usr/local/lib/python3.6/dist-packages (from boto3->transformers) (1.15.26)\n",
            "Requirement already satisfied: s3transfer<0.4.0,>=0.3.0 in /usr/local/lib/python3.6/dist-packages (from boto3->transformers) (0.3.3)\n",
            "Requirement already satisfied: click in /usr/local/lib/python3.6/dist-packages (from sacremoses->transformers) (7.1.1)\n",
            "Requirement already satisfied: joblib in /usr/local/lib/python3.6/dist-packages (from sacremoses->transformers) (0.14.1)\n",
            "Requirement already satisfied: six in /usr/local/lib/python3.6/dist-packages (from sacremoses->transformers) (1.12.0)\n",
            "Requirement already satisfied: certifi>=2017.4.17 in /usr/local/lib/python3.6/dist-packages (from requests->transformers) (2019.11.28)\n",
            "Requirement already satisfied: chardet<3.1.0,>=3.0.2 in /usr/local/lib/python3.6/dist-packages (from requests->transformers) (3.0.4)\n",
            "Requirement already satisfied: idna<2.9,>=2.5 in /usr/local/lib/python3.6/dist-packages (from requests->transformers) (2.8)\n",
            "Requirement already satisfied: urllib3<1.25,>=1.21.1 in /usr/local/lib/python3.6/dist-packages (from requests->transformers) (1.24.3)\n",
            "Requirement already satisfied: python-dateutil<3.0.0,>=2.1 in /usr/local/lib/python3.6/dist-packages (from botocore<1.16.0,>=1.15.26->boto3->transformers) (2.8.1)\n",
            "Requirement already satisfied: docutils<0.16,>=0.10 in /usr/local/lib/python3.6/dist-packages (from botocore<1.16.0,>=1.15.26->boto3->transformers) (0.15.2)\n"
          ],
          "name": "stdout"
        }
      ]
    },
    {
      "cell_type": "code",
      "metadata": {
        "id": "Q3MLqgPywahc",
        "colab_type": "code",
        "outputId": "a4c58bbc-e379-4f72-87f8-96460eaeeeb2",
        "colab": {
          "base_uri": "https://localhost:8080/",
          "height": 34
        }
      },
      "source": [
        "from google.colab import drive\n",
        "drive.mount('/content/drive')"
      ],
      "execution_count": 2,
      "outputs": [
        {
          "output_type": "stream",
          "text": [
            "Drive already mounted at /content/drive; to attempt to forcibly remount, call drive.mount(\"/content/drive\", force_remount=True).\n"
          ],
          "name": "stdout"
        }
      ]
    },
    {
      "cell_type": "code",
      "metadata": {
        "id": "nxHwnOz-wElJ",
        "colab_type": "code",
        "outputId": "4ef52028-bc4d-4438-b1d9-5de87dc09f68",
        "colab": {
          "base_uri": "https://localhost:8080/",
          "height": 63
        }
      },
      "source": [
        "import torch\n",
        "from transformers import *\n",
        "import numpy as np\n",
        "import scipy as scipy\n",
        "import pandas as pd\n",
        "import os\n",
        "import ast\n",
        "import tqdm as tqdm\n",
        "\n",
        "\n",
        "DEVICE = \"cuda\" if torch.cuda.is_available() else \"cpu\""
      ],
      "execution_count": 3,
      "outputs": [
        {
          "output_type": "display_data",
          "data": {
            "text/html": [
              "<p style=\"color: red;\">\n",
              "The default version of TensorFlow in Colab will switch to TensorFlow 2.x on the 27th of March, 2020.<br>\n",
              "We recommend you <a href=\"https://www.tensorflow.org/guide/migrate\" target=\"_blank\">upgrade</a> now\n",
              "or ensure your notebook will continue to use TensorFlow 1.x via the <code>%tensorflow_version 1.x</code> magic:\n",
              "<a href=\"https://colab.research.google.com/notebooks/tensorflow_version.ipynb\" target=\"_blank\">more info</a>.</p>\n"
            ],
            "text/plain": [
              "<IPython.core.display.HTML object>"
            ]
          },
          "metadata": {
            "tags": []
          }
        }
      ]
    },
    {
      "cell_type": "code",
      "metadata": {
        "id": "DdJNWG3X01oV",
        "colab_type": "code",
        "colab": {}
      },
      "source": [
        "MODEL_CLASS, TOKENIZER_CLASS, PRETRAINED = (BertForSequenceClassification, BertTokenizer, 'bert-base-cased')\n",
        "PAWS_QQP = False"
      ],
      "execution_count": 0,
      "outputs": []
    },
    {
      "cell_type": "markdown",
      "metadata": {
        "id": "QAKkPmVLdZ2C",
        "colab_type": "text"
      },
      "source": [
        "# **Generate QQP**"
      ]
    },
    {
      "cell_type": "code",
      "metadata": {
        "id": "dDWBK6aedjR6",
        "colab_type": "code",
        "colab": {}
      },
      "source": [
        "data_path = '/content/drive/My Drive/Colab/data_qqp/'\n",
        "\n",
        "all_data = pd.read_table(os.path.expanduser(data_path + 'quora_duplicate_questions.tsv'), header=0)\n",
        "all_data = all_data.rename(columns={'is_duplicate': 'label', 'question1': 'sentence1', 'question2': 'sentence2'})\n",
        "\n",
        "class_1 = all_data[all_data['label']==1]\n",
        "class_0 = all_data[all_data['label']==0]\n",
        "\n",
        "class_1_dev_test = class_1.sample(n=10000)\n",
        "class_1_train = class_1.drop(class_1_dev_test.index)\n",
        "\n",
        "class_0_dev_test = class_0.sample(n=10000)\n",
        "class_0_train = class_0.drop(class_0_dev_test.index)\n",
        "\n",
        "train_data = pd.concat([class_1_train, class_0_train])\n",
        "train_data = train_data.sample(frac=1).reset_index(drop=True)\n",
        "test_data = pd.concat([class_1_dev_test[:5000], class_0_dev_test[:5000]])\n",
        "test_data = test_data.sample(frac=1).reset_index(drop=True)\n",
        "dev_data = pd.concat([class_1_dev_test[5000:], class_0_dev_test[5000:]])\n",
        "dev_data = dev_data.sample(frac=1).reset_index(drop=True)"
      ],
      "execution_count": 0,
      "outputs": []
    },
    {
      "cell_type": "code",
      "metadata": {
        "id": "cMFkl-CZhP7B",
        "colab_type": "code",
        "colab": {}
      },
      "source": [
        "train_data.to_csv(data_path + 'train.tsv', sep='\\t')\n",
        "dev_data.to_csv(data_path + 'dev.tsv', sep='\\t')\n",
        "test_data.to_csv(data_path + 'test.tsv', sep='\\t')"
      ],
      "execution_count": 0,
      "outputs": []
    },
    {
      "cell_type": "markdown",
      "metadata": {
        "id": "7BPg3_DtVIYJ",
        "colab_type": "text"
      },
      "source": [
        "# **Preprocess Data** "
      ]
    },
    {
      "cell_type": "code",
      "metadata": {
        "id": "V0EVyYE8L-CP",
        "colab_type": "code",
        "colab": {}
      },
      "source": [
        "DATA_FOLDER = 'data_PAWS_qqp'\n",
        "FILE_NAMES = ['train.tsv', 'dev.tsv']"
      ],
      "execution_count": 0,
      "outputs": []
    },
    {
      "cell_type": "code",
      "metadata": {
        "id": "dI0CzB3p0uT5",
        "colab_type": "code",
        "colab": {}
      },
      "source": [
        "class Tokenizer:\n",
        "    # init\n",
        "    def __init__(self, tokenizer_class, pretrained_weights, group_sent=False):\n",
        "        self.tokenizer = tokenizer_class.from_pretrained(pretrained_weights)\n",
        "        self.group_sent = group_sent\n",
        "        \n",
        "    # tokenize\n",
        "    def tokenize_data(self, data, file_path):\n",
        "        bar = tqdm.tqdm(total=len(data))\n",
        "        tokenized = pd.DataFrame(columns = ['i1', 's1', 'i2', 's2', 'i', 's', 'y'])\n",
        "        count = 0\n",
        "        flag = True\n",
        "        for index, row in data.iterrows():\n",
        "            token_row = {\n",
        "                'i1' : [],\n",
        "                's1' : [],\n",
        "                'i2' : [],\n",
        "                's2' : [],\n",
        "                'i' : [],\n",
        "                's' : [],\n",
        "                'y': 0\n",
        "            }\n",
        "            sent1 = str(row['sentence1'])\n",
        "            encoding1 = self.tokenizer.encode_plus(sent1, return_token_type_ids=True, max_length=128, pad_to_max_length=True)\n",
        "\n",
        "            token_row['i1'] = encoding1['input_ids']\n",
        "            token_row['s1'] = encoding1['token_type_ids']\n",
        "\n",
        "            # indexed1 = self.tokenizer.encode(sent1, max_length=128, pad_to_max_length=True)\n",
        "            # print(token)\n",
        "            # indexed1 = self.tokenizer.convert_tokens_to_ids(token)\n",
        "            # indexed_tensor = torch.tensor([indexed1])\n",
        "            # segment = np.zeros(len(indexed1), dtype=int)\n",
        "            # segment_tensor = torch.tensor([segment])\n",
        "            # token_row['s1'] = segment_tensor\n",
        "\n",
        "            sent2 = str(row['sentence2'])\n",
        "            encoding2 = self.tokenizer.encode_plus(sent2, return_token_type_ids=True, max_length=128, pad_to_max_length=True)\n",
        "\n",
        "            token_row['i2'] = encoding2['input_ids']\n",
        "            token_row['s2'] = encoding2['token_type_ids']\n",
        "            # indexed2 = self.tokenizer.encode(sent2, max_length=128, pad_to_max_length=True)\n",
        "            # # indexed2 = self.tokenizer.convert_tokens_to_ids(token)\n",
        "            # indexed_tensor = torch.tensor([indexed2])\n",
        "            # token_row['i2'] = indexed_tensor\n",
        "            # segment = np.zeros(len(indexed2), dtype=int)\n",
        "            # segment_tensor = torch.tensor([segment])\n",
        "            # token_row['s2'] = segment_tensor\n",
        "            \n",
        "            if self.group_sent == True:\n",
        "                encoding = self.tokenizer.encode_plus(sent1, sent2, return_token_type_ids=True, max_length=256, pad_to_max_length=True)\n",
        "\n",
        "                token_row['i'] = encoding2['input_ids']\n",
        "                token_row['s'] = encoding2['token_type_ids']\n",
        "\n",
        "                # print(encoding)\n",
        "                # indexed = self.tokenizer.build_inputs_with_special_tokens(indexed1, indexed2)\n",
        "                # token_row['i'] = torch.tensor([indexed])\n",
        "                # # print(torch.tensor([indexed]).shape)\n",
        "\n",
        "                # max_length = max(len(indexed), max_length)\n",
        "\n",
        "                # if len(indexed) > 500:\n",
        "                #     print(sent1 + sent2)\n",
        "                # segment = self.tokenizer.create_token_type_ids_from_sequences(indexed1, indexed2)\n",
        "                # token_row['s'] = torch.tensor([segment])\n",
        "            \n",
        "            token_row['y'] = row['label']\n",
        "            tokenized = tokenized.append(token_row, ignore_index=True)\n",
        "            bar.update()\n",
        "            count += 1\n",
        "            if count % 10000 == 0:\n",
        "                if flag == True:\n",
        "                    tokenized.to_csv(file_path)\n",
        "                    flag = False\n",
        "                else:\n",
        "                    tokenized.to_csv(file_path, mode='a', header=False)\n",
        "                tokenized = tokenized.iloc[0:0]\n",
        "        if count % 10000 != 0:\n",
        "            if flag == True:\n",
        "                tokenized.to_csv(file_path)\n",
        "                flag = False\n",
        "            else:\n",
        "                tokenized.to_csv(file_path, mode='a', header=False)\n",
        "        bar.close()\n",
        "        return tokenized"
      ],
      "execution_count": 0,
      "outputs": []
    },
    {
      "cell_type": "code",
      "metadata": {
        "id": "Q_9WZx3Jwwjd",
        "colab_type": "code",
        "outputId": "19b22679-8f6b-43ee-de3e-1a041edee9bd",
        "colab": {
          "base_uri": "https://localhost:8080/",
          "height": 51
        }
      },
      "source": [
        "data_path = '/content/drive/My Drive/Colab/' + DATA_FOLDER + '/'\n",
        "tokenizer = Tokenizer(TOKENIZER_CLASS, PRETRAINED, True)\n",
        "\n",
        "for file_name in FILE_NAMES:\n",
        "    data = pd.read_table(os.path.expanduser(data_path+file_name),header=0)\n",
        "    tokens = tokenizer.tokenize_data(data, data_path + file_name.split('.')[0] + '.csv')\n",
        "    # tokens.to_csv(data_path + file_name.split('.')[0] + '.csv')\n",
        "    # display(tokens)"
      ],
      "execution_count": 0,
      "outputs": [
        {
          "output_type": "stream",
          "text": [
            "100%|██████████| 11988/11988 [00:57<00:00, 208.27it/s]\n",
            "100%|██████████| 677/677 [00:02<00:00, 238.98it/s]\n"
          ],
          "name": "stderr"
        }
      ]
    },
    {
      "cell_type": "markdown",
      "metadata": {
        "id": "zpNONuQgVot2",
        "colab_type": "text"
      },
      "source": [
        "# **Load Data**\n",
        "- TBD: Create DataLoader"
      ]
    },
    {
      "cell_type": "code",
      "metadata": {
        "id": "SwD94aFeMnsx",
        "colab_type": "code",
        "colab": {}
      },
      "source": [
        "BASE_QQP_PATH = '/content/drive/My Drive/Colab/data_qqp/'\n",
        "BASE_PAWS_QQP_PATH = '/content/drive/My Drive/Colab/data_PAWS_qqp/'"
      ],
      "execution_count": 0,
      "outputs": []
    },
    {
      "cell_type": "code",
      "metadata": {
        "id": "bt7C-VZeVoH1",
        "colab_type": "code",
        "colab": {}
      },
      "source": [
        "# Load QQP sets\n",
        "data = pd.read_csv(BASE_QQP_PATH + 'train.csv')\n",
        "data['i'] = data['i'].apply(lambda x: ast.literal_eval(x))\n",
        "data['s'] = data['s'].apply(lambda x: ast.literal_eval(x))\n",
        "train_set = data\n",
        "# display(train_set)"
      ],
      "execution_count": 0,
      "outputs": []
    },
    {
      "cell_type": "code",
      "metadata": {
        "id": "EVXw2-edNGMh",
        "colab_type": "code",
        "colab": {}
      },
      "source": [
        "# Load PAWS QQP if generated\n",
        "if PAWS_QQP == True:    \n",
        "    data = pd.read_csv(BASE_PAWS_QQP_PATH + 'train.csv')\n",
        "    data['i'] = data['i'].apply(lambda x: ast.literal_eval(x))\n",
        "    data['s'] = data['s'].apply(lambda x: ast.literal_eval(x))\n",
        "    train_set = pd.concat([train_set, data])\n"
      ],
      "execution_count": 0,
      "outputs": []
    },
    {
      "cell_type": "code",
      "metadata": {
        "id": "ZXAm6-ynN1z_",
        "colab_type": "code",
        "colab": {}
      },
      "source": [
        "data = pd.read_csv(BASE_QQP_PATH + 'dev.csv')\n",
        "data['i'] = data['i'].apply(lambda x: ast.literal_eval(x))\n",
        "data['s'] = data['s'].apply(lambda x: ast.literal_eval(x))\n",
        "dev_set = data\n",
        "\n",
        "data = pd.read_csv(BASE_QQP_PATH + 'test.csv')\n",
        "data['i'] = data['i'].apply(lambda x: ast.literal_eval(x))\n",
        "data['s'] = data['s'].apply(lambda x: ast.literal_eval(x))\n",
        "test_set = data"
      ],
      "execution_count": 0,
      "outputs": []
    },
    {
      "cell_type": "code",
      "metadata": {
        "id": "cW-cfWA6O-Xl",
        "colab_type": "code",
        "colab": {}
      },
      "source": [
        "paws_qqp_dev_set = None\n",
        "if PAWS_QQP == True: \n",
        "    data = pd.read_csv(BASE_PAWS_QQP_PATH + 'dev.csv')\n",
        "    data['i'] = data['i'].apply(lambda x: ast.literal_eval(x))\n",
        "    data['s'] = data['s'].apply(lambda x: ast.literal_eval(x))\n",
        "    paws_qqp_dev_set = data\n",
        "    dev_set = pd.concat([dev_set, data])"
      ],
      "execution_count": 0,
      "outputs": []
    },
    {
      "cell_type": "markdown",
      "metadata": {
        "id": "aa1IXRK-VFgu",
        "colab_type": "text"
      },
      "source": [
        "# **BERT Model**"
      ]
    },
    {
      "cell_type": "markdown",
      "metadata": {
        "id": "2HVPFZadownS",
        "colab_type": "text"
      },
      "source": [
        "## Model Code"
      ]
    },
    {
      "cell_type": "code",
      "metadata": {
        "id": "6GlyEXp_0yE1",
        "colab_type": "code",
        "colab": {}
      },
      "source": [
        "# Custom LR schedule\n",
        "def get_custom_schedule(optimizer, last_epoch=-1):\n",
        "    \"\"\" Create a schedule with a learning rate that decreases linearly after\n",
        "    linearly increasing during a warmup period.\n",
        "    \"\"\"\n",
        "    def lr_lambda(current_step):\n",
        "        return max(1e-3, 1.0/current_step)\n",
        "\n",
        "    return torch.optim.lr_scheduler.LambdaLR(optimizer, lr_lambda, last_epoch)\n",
        "\n",
        "class Model_Classifier:\n",
        "    # initalize model\n",
        "    def __init__(self, model_class, pretrained_weights, pretrained_path=None):\n",
        "        if pretrained_path is not None:\n",
        "            self.model = model_class.from_pretrained(pretrained_path).cuda()\n",
        "        else:\n",
        "            self.model = model_class.from_pretrained(pretrained_weights).cuda()\n",
        "\n",
        "        self.TRAINING_ITERATIONS = 100000\n",
        "        self.WARMUP = 1000\n",
        "        self.BATCH_SIZE = 64\n",
        "        self.REPORT_FREQUENCY = 100\n",
        "        self.CHKPT_FREQUENCY = 500\n",
        "#         self.model.eval()\n",
        "        \n",
        "\n",
        "    def train_batch(self, train_data):\n",
        "        train_ids = torch.tensor(train_data['i'].values.tolist()).cuda()\n",
        "        train_segments = torch.tensor(train_data['s'].values.tolist()).cuda()\n",
        "        train_labels = torch.tensor(train_data['y'].values.tolist()).cuda()\n",
        "\n",
        "        # Uncomment this for BERT\n",
        "        # outputs = self.model(input_ids = train_ids, token_type_ids = train_segments, labels = train_labels)\n",
        "\n",
        "        # Uncomment this for DistilBERT\n",
        "        self.model.train()\n",
        "        outputs = self.model(input_ids = train_ids, labels = train_labels)\n",
        "        loss = outputs[0].cuda()\n",
        "        loss.backward()\n",
        "        self.optimizer.step()\n",
        "        self.scheduler.step()\n",
        "        self.model.zero_grad()\n",
        "        return loss\n",
        "\n",
        "    # train classifier\n",
        "    def train(self, data, validation_set):\n",
        "        no_decay = [\"bias\", \"LayerNorm.weight\"]\n",
        "        optimizer_grouped_parameters = [\n",
        "            {\n",
        "                \"params\": [p for n, p in self.model.named_parameters() if not any(nd in n for nd in no_decay)],\n",
        "                \"weight_decay\": 0.0,\n",
        "            },\n",
        "            {\"params\": [p for n, p in self.model.named_parameters() if any(nd in n for nd in no_decay)], \"weight_decay\": 0.0},\n",
        "        ]\n",
        "        self.optimizer = AdamW(optimizer_grouped_parameters, lr=1e-5)\n",
        "        # self.scheduler = get_custom_schedule(self.optimizer)\n",
        "        self.scheduler = get_linear_schedule_with_warmup(self.optimizer, num_warmup_steps=0, num_training_steps=self.TRAINING_ITERATIONS+1)\n",
        "        prev_acc = 0.0\n",
        "        bar = tqdm.tqdm(total=self.CHKPT_FREQUENCY)\n",
        "        for i in range(1, self.TRAINING_ITERATIONS+1):\n",
        "            train_data = data.sample(n=self.BATCH_SIZE)\n",
        "            loss = self.train_batch(train_data)\n",
        "            bar.update(1)\n",
        "            if i%self.REPORT_FREQUENCY == 0:\n",
        "                bar.write(\"%d: Loss - %s\" %(i, loss))\n",
        "            if i%self.CHKPT_FREQUENCY == 0:\n",
        "                acc = self.test(validation_set)\n",
        "                bar.write(\"%d: Validation - %s\" %(i, str(acc)))\n",
        "                if abs(prev_acc-acc) < 0.0001 and loss[0] < 0.001:\n",
        "                    bar.write('Finish')\n",
        "                    bar.close()\n",
        "                    self.save(directory='final')\n",
        "                    break\n",
        "                prev_acc = acc\n",
        "                bar.write(\"%d Saved\" %(i))\n",
        "                self.save(directory='CHKPT_')\n",
        "                bar.close()\n",
        "                bar = tqdm.tqdm(total=self.CHKPT_FREQUENCY)\n",
        "\n",
        "            # data = data.sample(frac=1).reset_index(drop=True)\n",
        "            # count = 1\n",
        "            # for j in range(self.BATCH_SIZE, len(data), self.BATCH_SIZE):\n",
        "            #     train_data = data.iloc[j-self.BATCH_SIZE:j]\n",
        "            #     loss = self.train_batch(train_data)\n",
        "            #     bar.update(1)\n",
        "            #     if count%self.REPORT_FREQUENCY == 0:\n",
        "            #         i = count/self.REPORT_FREQUENCY\n",
        "            #         bar.write(\"%d: Loss - %s\" %(i, loss))\n",
        "            #     if count%self.CHKPT_FREQUENCY == 0:\n",
        "            #         i = count/self.REPORT_FREQUENCY\n",
        "            #         bar.write(\"%d: Loss - %s\" %(i, loss))\n",
        "            #         acc = self.test(validation_set)\n",
        "            #         bar.write(\"%d: Validation - %s\" %(i, str(acc)))\n",
        "            #         if abs(prev_acc-acc) < 0.0001 and loss[0] < 0.001:\n",
        "            #             bar.write('Finish')\n",
        "            #             bar.close()\n",
        "            #             self.save(directory='final')\n",
        "            #             break\n",
        "            #         prev_acc = acc\n",
        "            #         bar.write(\"%d Saved\" %(i))\n",
        "            #         self.save(directory='CHKPT_')\n",
        "                # count += 1\n",
        "            # bar.close()\n",
        "        # bar.close()\n",
        "        return\n",
        "\n",
        "    # save model\n",
        "    def save(self, directory=None):\n",
        "      if directory is not None:\n",
        "          path = '/content/drive/My Drive/Colab/' + directory + '/'\n",
        "          if not os.path.exists(path):\n",
        "              os.makedirs(path)\n",
        "          self.model.save_pretrained('/content/drive/My Drive/Colab/' + directory + '/')\n",
        "      else:\n",
        "          self.model.save_pretrained('/content/drive/My Drive/Colab/model/')\n",
        "    \n",
        "    # predict values\n",
        "    def test(self, data, is_print=False):\n",
        "        test_samples = pd.read_table(os.path.expanduser('/content/drive/My Drive/Colab/data_qqp/test.tsv'),header=0)\n",
        "        self.model.eval()\n",
        "        ids = data['i'].values\n",
        "        segments = data['s'].values\n",
        "        labels = data['y'].values\n",
        "        correct = 0\n",
        "        total = len(labels)\n",
        "        i = 0\n",
        "        for i in range(self.BATCH_SIZE, len(ids), self.BATCH_SIZE):\n",
        "            input_ids = torch.tensor(ids[i-self.BATCH_SIZE:i].tolist()).cuda()\n",
        "            outputs = self.model(input_ids = input_ids)\n",
        "            probs = outputs[0]\n",
        "            softmax = torch.nn.functional.softmax(probs, dim=1)\n",
        "            prediction = torch.argmax(softmax, dim=1)\n",
        "            # print(prediction)\n",
        "            for j in range(i-self.BATCH_SIZE, i):\n",
        "                if labels[j] == prediction[j-i]:\n",
        "                    correct += 1\n",
        "                elif is_print==True:\n",
        "                    print(\"Mismatch Betweeen %s \\t - \\t %s, label (%d) vs prediction (%d)\" %(test_samples.iloc[j]['sentence1'], test_samples.iloc[j]['sentence2'], labels[j], prediction[j-i]))\n",
        "        if i < total:\n",
        "            input_ids = torch.tensor(ids[i:total].tolist()).cuda()\n",
        "            outputs = self.model(input_ids = input_ids)\n",
        "            probs = outputs[0]\n",
        "            softmax = torch.nn.functional.softmax(probs, dim=1)\n",
        "            prediction = torch.argmax(softmax, dim=1)\n",
        "            # print(prediction)\n",
        "            for j in range(i, total):\n",
        "                if labels[j] == prediction[j-i]:\n",
        "                    correct += 1\n",
        "                elif is_print==True:\n",
        "                    print(\"Mismatch Betweeen %s \\t - \\t %s, label (%d) vs prediction (%d)\" %(test_samples.iloc[j]['sentence1'], test_samples.iloc[j]['sentence2'], labels[j], prediction[j-i]))\n",
        "        return correct/total"
      ],
      "execution_count": 0,
      "outputs": []
    },
    {
      "cell_type": "markdown",
      "metadata": {
        "id": "GzVMYXlpk49W",
        "colab_type": "text"
      },
      "source": [
        "## Train Model"
      ]
    },
    {
      "cell_type": "code",
      "metadata": {
        "id": "WKgl5Ks904oA",
        "colab_type": "code",
        "colab": {}
      },
      "source": [
        "bert_class = Model_Classifier(MODEL_CLASS, PRETRAINED)"
      ],
      "execution_count": 0,
      "outputs": []
    },
    {
      "cell_type": "code",
      "metadata": {
        "id": "qQGE_PiiaSOK",
        "colab_type": "code",
        "outputId": "234a9f74-59e7-402a-d1e1-6d7e153a997a",
        "colab": {
          "base_uri": "https://localhost:8080/",
          "height": 204
        }
      },
      "source": [
        "bert_class.train(train_set, dev_set)"
      ],
      "execution_count": 0,
      "outputs": [
        {
          "output_type": "stream",
          "text": [
            " 20%|██        | 100/500 [01:11<04:48,  1.39it/s]"
          ],
          "name": "stderr"
        },
        {
          "output_type": "stream",
          "text": [
            "100: Loss - tensor(0.6220, device='cuda:0', grad_fn=<NllLossBackward>)\n"
          ],
          "name": "stdout"
        },
        {
          "output_type": "stream",
          "text": [
            " 40%|████      | 200/500 [02:23<03:34,  1.40it/s]"
          ],
          "name": "stderr"
        },
        {
          "output_type": "stream",
          "text": [
            "200: Loss - tensor(0.5889, device='cuda:0', grad_fn=<NllLossBackward>)\n"
          ],
          "name": "stdout"
        },
        {
          "output_type": "stream",
          "text": [
            " 60%|██████    | 300/500 [03:34<02:22,  1.40it/s]"
          ],
          "name": "stderr"
        },
        {
          "output_type": "stream",
          "text": [
            "300: Loss - tensor(0.5994, device='cuda:0', grad_fn=<NllLossBackward>)\n"
          ],
          "name": "stdout"
        },
        {
          "output_type": "stream",
          "text": [
            " 80%|████████  | 400/500 [04:46<01:11,  1.39it/s]"
          ],
          "name": "stderr"
        },
        {
          "output_type": "stream",
          "text": [
            "400: Loss - tensor(0.6543, device='cuda:0', grad_fn=<NllLossBackward>)\n"
          ],
          "name": "stdout"
        },
        {
          "output_type": "stream",
          "text": [
            "100%|██████████| 500/500 [05:58<00:00,  1.40it/s]"
          ],
          "name": "stderr"
        },
        {
          "output_type": "stream",
          "text": [
            "500: Loss - tensor(0.5602, device='cuda:0', grad_fn=<NllLossBackward>)\n"
          ],
          "name": "stdout"
        },
        {
          "output_type": "stream",
          "text": [
            "100%|██████████| 500/500 [06:34<00:00,  1.40it/s]"
          ],
          "name": "stderr"
        },
        {
          "output_type": "stream",
          "text": [
            "500: Validation - 0.6037\n",
            "500 Saved\n"
          ],
          "name": "stdout"
        },
        {
          "output_type": "stream",
          "text": [
            "100%|██████████| 500/500 [06:35<00:00,  1.26it/s]\n",
            " 20%|██        | 100/500 [01:11<04:46,  1.39it/s]"
          ],
          "name": "stderr"
        },
        {
          "output_type": "stream",
          "text": [
            "600: Loss - tensor(0.5824, device='cuda:0', grad_fn=<NllLossBackward>)\n"
          ],
          "name": "stdout"
        },
        {
          "output_type": "stream",
          "text": [
            " 40%|████      | 200/500 [02:23<03:35,  1.39it/s]"
          ],
          "name": "stderr"
        },
        {
          "output_type": "stream",
          "text": [
            "700: Loss - tensor(0.5042, device='cuda:0', grad_fn=<NllLossBackward>)\n"
          ],
          "name": "stdout"
        },
        {
          "output_type": "stream",
          "text": [
            " 51%|█████▏    | 257/500 [03:04<02:54,  1.40it/s]"
          ],
          "name": "stderr"
        }
      ]
    },
    {
      "cell_type": "code",
      "metadata": {
        "id": "ru_vFuEXZUKh",
        "colab_type": "code",
        "outputId": "3c530d64-a8cb-4367-9ae4-10be8ae76476",
        "colab": {
          "base_uri": "https://localhost:8080/",
          "height": 34
        }
      },
      "source": [
        "bert_class.save()"
      ],
      "execution_count": 0,
      "outputs": [
        {
          "output_type": "stream",
          "text": [
            "HERE\n"
          ],
          "name": "stdout"
        }
      ]
    },
    {
      "cell_type": "markdown",
      "metadata": {
        "id": "mjiojR2kky7F",
        "colab_type": "text"
      },
      "source": [
        "## Test Model\n"
      ]
    },
    {
      "cell_type": "code",
      "metadata": {
        "id": "IWBhT7C6k3Hi",
        "colab_type": "code",
        "outputId": "5002d928-40d9-4df8-834a-71c48a4ee4d9",
        "colab": {
          "base_uri": "https://localhost:8080/",
          "height": 1000
        }
      },
      "source": [
        "bert_class = Model_Classifier(MODEL_CLASS, PRETRAINED, pretrained_path='/content/drive/My Drive/Colab/QQP_PAWS_1/')\n",
        "acc = bert_class.test(paws_qqp_dev_set)\n",
        "print(acc)"
      ],
      "execution_count": 0,
      "outputs": [
        {
          "output_type": "stream",
          "text": [
            "Mismatch Betweeen Why are the droids in Star Wars so stupid? \t - \t Why is everyone in Star Wars so racist against droids?, label (0) vs prediction (1)\n",
            "Mismatch Betweeen Where can I get best assistance in Sydney for any property purchasing? \t - \t Where can I get best property transaction support in Sydney?, label (1) vs prediction (0)\n",
            "Mismatch Betweeen What are the benefits of getting married? \t - \t What are the benefits of getting married in this life time?, label (0) vs prediction (1)\n",
            "Mismatch Betweeen What is the best vegan food? \t - \t What is best vegan food in world?, label (0) vs prediction (1)\n",
            "Mismatch Betweeen How did it feel when you met your soulmate? \t - \t How did you feel when you met your soulmate?, label (0) vs prediction (1)\n",
            "Mismatch Betweeen I was 18 he was 40. He InitIally said to me that he wIll cut his private parts if i say no to marrying him. I married him. I am unhappy what do I do? \t - \t I love him a lot. He likes me too. But we haven't told each other openly. Recently I asked him. He started ignoring me.He just said that he will marry the girl his parents choose. He says he dont hate me but he cant hurt his parents.How do I tell him I love only him?, label (0) vs prediction (1)\n",
            "Mismatch Betweeen Right to education: how will the govt meet the challenges of access equity and quality in education? \t - \t How will the government meet the challenges of access of equity and quality in education?, label (0) vs prediction (1)\n",
            "Mismatch Betweeen What is the Venmo limit? \t - \t Is there a way to transfer funds between Venmo and Paypal?, label (1) vs prediction (0)\n",
            "Mismatch Betweeen How did all the matter and energy we see today came from? How did it arise from infinitesimal point after big bang? \t - \t How did the Big Bang occur?, label (0) vs prediction (1)\n",
            "Mismatch Betweeen Which intersections in Baltimore are particularly dangerous? Why? What could be done to improve them? \t - \t Which intersections in Toronto are particularly dangerous? Why? What could be done to improve them?, label (1) vs prediction (0)\n",
            "Mismatch Betweeen What is the difference between a person and a human? \t - \t What is the difference between love in human beings and love in animals?, label (0) vs prediction (1)\n",
            "Mismatch Betweeen How do I believe that Bible is literally true? \t - \t Is the Bible more likely to be true or not true?, label (0) vs prediction (1)\n",
            "Mismatch Betweeen What word rhymes with \"find\"? \t - \t What are some words that rhyme with bat?, label (0) vs prediction (1)\n",
            "Mismatch Betweeen Are Brazilians mixed with Africans? \t - \t What strategy can be used by telecom companies to save their customers from shifting to Jio?, label (0) vs prediction (1)\n",
            "Mismatch Betweeen If I update my iPhone 4s to iOS 8.2, will I still be able to play music from it via the dock connector in my 2009 Toyota? \t - \t Will Gevey sim work on my iPhone 4S updated to iOS 7?, label (0) vs prediction (1)\n",
            "Mismatch Betweeen Why does my kitten bite me? \t - \t Why does my kitten bite and then lick me?, label (0) vs prediction (1)\n",
            "Mismatch Betweeen What are the basic things an electronics engineer should know? \t - \t What are some things in engineering everyone should know?, label (0) vs prediction (1)\n",
            "Mismatch Betweeen Why is shaving against the grain bad? \t - \t Why are shaved heads \"hot\"?, label (0) vs prediction (1)\n",
            "Mismatch Betweeen I received a wrong final grade. What can I do? \t - \t I have received a bad grade in one of my high school classes. I retook the class online and got an A. Will colleges overlook the bad grade?, label (1) vs prediction (0)\n",
            "Mismatch Betweeen How do London and Paris compare to live in? \t - \t Should I study and live in London or Paris?, label (1) vs prediction (0)\n",
            "Mismatch Betweeen What's the gre cut off for ncsu? \t - \t What is the GRE and the IELTS cut-off for Texas A&M College (station for electrical)?, label (1) vs prediction (0)\n",
            "Mismatch Betweeen Where can I apply for jobs/ internships in VLSI/Embedded? Apart from post graduation, what are the options to get back to electronics? \t - \t Which field is better to get a job in, embedded or VLSI? Why?, label (0) vs prediction (1)\n",
            "Mismatch Betweeen How do I know when I've fallen in love? \t - \t How do I know if I have fallen in love with someone?, label (0) vs prediction (1)\n",
            "Mismatch Betweeen How many apple seeds do you have to consume to die? \t - \t Why are apple seeds poisonous to dogs?, label (1) vs prediction (0)\n",
            "Mismatch Betweeen How do I trace a phone call? \t - \t How can we trace a phone call's origin or cellphone location?, label (1) vs prediction (0)\n",
            "Mismatch Betweeen Hollywood MOVIE DOWNLOAD SITE? \t - \t What are good sites to download Hollywood or Bollywood Movies?, label (1) vs prediction (0)\n",
            "Mismatch Betweeen If your body temperature is 98 degrees, then why does 83 degrees feel hot? \t - \t If your body temperature is 98 degrees, then why does temperatures less than that feel hot?, label (0) vs prediction (1)\n",
            "Mismatch Betweeen What is the best short-term health insurance to get if you are planning to travel internationally? \t - \t What are the best long-term travelers health insurance companies/plans in terms of coverage and cost?, label (1) vs prediction (0)\n",
            "Mismatch Betweeen Why is the logo of Java a cup of coffee? \t - \t What is the reason behind the Java logo being a cup of coffee?, label (0) vs prediction (1)\n",
            "Mismatch Betweeen What are the some lesser known fact about Indian railways? \t - \t What are some amazing or least known fact of Indian railway?, label (1) vs prediction (0)\n",
            "Mismatch Betweeen How can I prevent my dog from licking herself constantly? \t - \t How can I prevent my dog from getting fleas from my hedgehog?, label (1) vs prediction (0)\n",
            "Mismatch Betweeen What is a wheatish complexion? \t - \t Is silver hair streaks for a Wheatish skin good?, label (1) vs prediction (0)\n",
            "Mismatch Betweeen Why is a comma often used after \"sometimes\"? \t - \t Is a comma used before or after \"then\"?, label (0) vs prediction (1)\n",
            "Mismatch Betweeen What's a way to last longer during sex? (For guys)? \t - \t What should I do to last longer in bed?, label (1) vs prediction (0)\n",
            "Mismatch Betweeen What are the safety precautions on handling shotguns proposed by the NRA in Alabama and every other state, territory and possession in the U.S.? \t - \t What are the safety precautions on handling shotguns proposed by the NRA in Maine?, label (1) vs prediction (0)\n",
            "Mismatch Betweeen When the company you're about to interview at takes the job ad off the Internet, does that mean they probably hired someone else? \t - \t Can normal Bluetooth earbuds activate Siri on iPhone 7?, label (1) vs prediction (0)\n",
            "Mismatch Betweeen How can O2 visas get cancelled? \t - \t How can I get a Legal Permanent Resident status (green card) for the USA?, label (1) vs prediction (0)\n",
            "Mismatch Betweeen Is it wrong to be disgusted by fat people? \t - \t What are fat people good at?, label (0) vs prediction (1)\n",
            "Mismatch Betweeen How do accidents happen? Why do accidents happen? \t - \t Why do accidents happen?, label (0) vs prediction (1)\n",
            "Mismatch Betweeen Which has better apps: iOS or Android? \t - \t Which is better: iOS or Android?, label (0) vs prediction (1)\n",
            "Mismatch Betweeen If I applied for visa with a passport due for expiry, can the renewed one be stamped at interview? \t - \t My mother and I applied for a tourist visa. When we got our passports back, her passport had my visa stamped on it and mine on hers. What can be done?, label (1) vs prediction (0)\n",
            "Mismatch Betweeen Does luck play a role in clearing JEE? \t - \t Does luck play a bigger role in clearing the JEE Advanced?, label (1) vs prediction (0)\n",
            "Mismatch Betweeen How does one avoid sleep? \t - \t How do i avoid sleep?, label (1) vs prediction (0)\n",
            "Mismatch Betweeen What are some good proverbs that have been invented or popularized in the last 20 years? \t - \t Why is Taylor Swift so popular?, label (0) vs prediction (1)\n",
            "Mismatch Betweeen What are the differences in grammar between Australian English and British English if any? \t - \t What are the differences between American, British and Australian English?, label (1) vs prediction (0)\n",
            "Mismatch Betweeen What is the best programming language for web development? \t - \t What are the best programming languages to learn for web development?, label (0) vs prediction (1)\n",
            "Mismatch Betweeen Are near death experiences real? \t - \t Is near death experience true?, label (0) vs prediction (1)\n",
            "Mismatch Betweeen Which algorithm is Cubeduel using for duel matchmaking? \t - \t What are algorithms useful for?, label (1) vs prediction (0)\n",
            "Mismatch Betweeen How can I remove the redirect virus from an Android phone? \t - \t How can I remove a virus from my phone?, label (0) vs prediction (1)\n",
            "Mismatch Betweeen What are the best colleges for studying psychology? \t - \t Which is the best college to study psychology?, label (0) vs prediction (1)\n",
            "Mismatch Betweeen What are some examples of inferences in science? \t - \t What are some examples of inference in science?, label (1) vs prediction (0)\n",
            "Mismatch Betweeen If a garden is a collection of plants and trees, is it a collective noun? \t - \t What is an example of a sentence that contain all types of nouns in it?, label (1) vs prediction (0)\n",
            "Mismatch Betweeen How do I get scholarship for studying abroad? \t - \t Where can I find information related to scholarships, grants or fellowships for international students?, label (1) vs prediction (0)\n",
            "Mismatch Betweeen How should I prepare for physics NEET 2017 and from where do I start ? \t - \t How do I prepare for NEET 2017?, label (0) vs prediction (1)\n",
            "Mismatch Betweeen Is it possible to get pregnant if he pulled out, wiped it off, and inserted it back in? \t - \t Is it still possible to get pregnant while pulling out even if you are under birth control?, label (0) vs prediction (1)\n",
            "Mismatch Betweeen What happens if periods are 5 days late? \t - \t Can I be 14 days late on my period without being pregnant?, label (0) vs prediction (1)\n",
            "Mismatch Betweeen What are the disadvantages of cashless transaction? \t - \t What are the hurdles to make India cashless?, label (0) vs prediction (1)\n",
            "Mismatch Betweeen What is the best laptop under Rs.50000 in India? \t - \t Which is the best laptop to buy under RS-50000?, label (0) vs prediction (1)\n",
            "Mismatch Betweeen How do you get a motorcycle license in California? \t - \t How can I obtain a motorcycle license in California?, label (1) vs prediction (0)\n",
            "Mismatch Betweeen Could someone explain the chinese remainder theorem? \t - \t What is the Chinese remainder theorem?, label (0) vs prediction (1)\n",
            "Mismatch Betweeen How do I be mentally strong? \t - \t How do I become emotionally and mentally strong?, label (0) vs prediction (1)\n",
            "Mismatch Betweeen What are the best lotions for tanning beds? \t - \t What is the best cheap tanning bed lotion?, label (0) vs prediction (1)\n",
            "Mismatch Betweeen Is the universe greater than the sum of its parts? \t - \t Is the whole greater than the sum of its parts?, label (1) vs prediction (0)\n",
            "Mismatch Betweeen What are some shapes with no right angles? \t - \t What are some shapes that have 4 right angles?, label (0) vs prediction (1)\n",
            "Mismatch Betweeen What is it like to study computer science at Columbia? \t - \t What's it like to major in Computer Science at Columbia?, label (0) vs prediction (1)\n",
            "Mismatch Betweeen Idioms: What are examples of situations where the saying \"a little knowledge is a dangerous thing\" is true? \t - \t What are some examples of a little knowledge being a dangerous thing?, label (0) vs prediction (1)\n",
            "Mismatch Betweeen What is the technology behind Prisma? \t - \t How do Prisma filters work?, label (0) vs prediction (1)\n",
            "Mismatch Betweeen Daniel Ek: Why isn't Spotify available in India? When is it launching in India? \t - \t Is Spotify available in India?, label (0) vs prediction (1)\n",
            "Mismatch Betweeen I have had severe anxiety my whole life, and can't remember dialogue in memories, could this be from never being able to focus on what was said? \t - \t I have jaw pain and I've realized my teeth have shifted. Should I see a dentist? I've never had braces., label (0) vs prediction (1)\n",
            "Mismatch Betweeen Why do people write such wordy, long answers on Quara when it is not necessary? \t - \t Why do people write answers way too long, way too often in this website?, label (1) vs prediction (0)\n",
            "Mismatch Betweeen Which indoor food plants are the easiest to grow? \t - \t What's the easiest vegetable to grow indoors?, label (1) vs prediction (0)\n",
            "Mismatch Betweeen What is the best programming language I should learn as a beginner? \t - \t Which programming language to start with for a beginner and what are steps necessary to learn it?, label (0) vs prediction (1)\n",
            "Mismatch Betweeen Why do the icons on the screen move down when I double-swipe the iPhone's Home button? \t - \t Where can I go to replace my iPhone 4's screen?, label (1) vs prediction (0)\n",
            "Mismatch Betweeen Do you think quick silver will replace wolverine as X-men's most beloved character? \t - \t Do you think quick silver will replace wolverine as X-men's most beloved movie character?, label (1) vs prediction (0)\n",
            "Mismatch Betweeen What's the best way to learn English? \t - \t What is the best way to improve my spoken English soon?, label (0) vs prediction (1)\n",
            "Mismatch Betweeen How does the HP OfficeJet 4620 Airprint compare to the HP DesignJet Z5200 44-in Photo Printer? \t - \t How does the HP OfficeJet 4620 Airprint compare to the HP DesignJet Z3200 24-in PostScript Photo Printer?, label (1) vs prediction (0)\n",
            "Mismatch Betweeen Can brother and sister have sexs? \t - \t Is it possible for brothers and sisters to ever feel sexual attraction towards each other?, label (1) vs prediction (0)\n",
            "Mismatch Betweeen What’s your biggest regret in life? \t - \t What is your biggest regret?, label (1) vs prediction (0)\n",
            "Mismatch Betweeen I masturbate 2-3 times a week. Is it bad? Should I stop doing so? \t - \t I'm a social smoker. I smoke about 2-3 times a month. Is this really bad for my health or not?, label (1) vs prediction (0)\n",
            "Mismatch Betweeen What is the most viewed answer you have got on Quora? \t - \t What is the most viewed answer you have here on Quora?, label (1) vs prediction (0)\n",
            "Mismatch Betweeen Does being dehydrated lower blood pressure? \t - \t What are some good ways to lower blood pressure?, label (1) vs prediction (0)\n",
            "Mismatch Betweeen What was your reaction when you came to know that your wife /girlfriend was pregnant? \t - \t What was your reaction when your wife told you she was pregnant?, label (0) vs prediction (1)\n",
            "Mismatch Betweeen What are the safety precautions on handling shotguns proposed by the NRA in Washington? \t - \t What are the safety precautions on handling shotguns proposed by the NRA in Arkansas?, label (0) vs prediction (1)\n",
            "Mismatch Betweeen What are some ways to deal with a boss who owes me my pay? \t - \t If my boss owes me money and won't pay me what can I do about it?, label (0) vs prediction (1)\n",
            "Mismatch Betweeen In what order should I watch the Marvel Cinematic Universe? \t - \t When will the Marvel Cinematic Universe end? Will it still be around in 2030?, label (0) vs prediction (1)\n",
            "Mismatch Betweeen What is your favorite animal and why? \t - \t What are your three favorite animals?, label (0) vs prediction (1)\n",
            "Mismatch Betweeen How do tanks defend against attack helicopters? \t - \t Are manned attack helicopters obsolete?, label (0) vs prediction (1)\n",
            "Mismatch Betweeen Why do people try to ask silly questions on Quora rather than googling it? \t - \t Why do people find it easier to stage simple questions on Quora rather than spending a few minutes on the Internet to find straight answers?, label (1) vs prediction (0)\n",
            "Mismatch Betweeen What is the most effective way to see a person's true personality? \t - \t Which qualities do you most admire or like in another person?, label (0) vs prediction (1)\n",
            "Mismatch Betweeen What are the best books for upsc civil services prelims? \t - \t What are the best books for UPSC?, label (1) vs prediction (0)\n",
            "Mismatch Betweeen How do you treat gunshot wounds? \t - \t How do paramedics ordinarily treat gunshot wounds?, label (0) vs prediction (1)\n",
            "Mismatch Betweeen What is a Swift Code? \t - \t What is the swift code for Canada?, label (0) vs prediction (1)\n",
            "Mismatch Betweeen Which is a beautiful place in India? \t - \t What is the most beautiful places to visit in India?, label (0) vs prediction (1)\n",
            "Mismatch Betweeen Are spy agencies using OnStar and similar cellular CDMA vehicle systems to \"stop terrorists\" or determine driving habits? \t - \t How do I use the Flash Drive Spy Camera?, label (1) vs prediction (0)\n",
            "Mismatch Betweeen Why is Wikipedia better than Quora? \t - \t Is Quora better than Wikipedia?, label (1) vs prediction (0)\n",
            "Mismatch Betweeen Is homosexuality genetic? \t - \t Is homosexuality associated with genes?, label (1) vs prediction (0)\n",
            "Mismatch Betweeen Why does India still need English? \t - \t Why does India like the English language? Why is it still the major connecting language in India?, label (0) vs prediction (1)\n",
            "Mismatch Betweeen How to bypass mobile surveys? \t - \t How can I bypass surveys?, label (1) vs prediction (0)\n",
            "Mismatch Betweeen If universe is expanding without a limit and dark and vacuum energy are created as it expands…? \t - \t If vacuum gravitational and dark energy are created as universe expands without limit?, label (1) vs prediction (0)\n",
            "Mismatch Betweeen What are some good sources for free instrumental music to use in video tutorials? \t - \t What are easy to use and free programs to make a company video ?, label (0) vs prediction (1)\n",
            "Mismatch Betweeen What is the most meaningful artwork that you have ever created or come across? \t - \t Artwork: How to create clip art?, label (0) vs prediction (1)\n",
            "Mismatch Betweeen How do you get over the feeling in law school that everyone else is studying harder? \t - \t How have the immigration laws changed over the last several decades? Is it easier or is it harder for a person to immigrate to the U.S. today?, label (1) vs prediction (0)\n",
            "Mismatch Betweeen Is it true that we were warned off the moon? \t - \t Why was Neil Armstrong warned off the moon?, label (1) vs prediction (0)\n",
            "Mismatch Betweeen How Latent Semantic Analysis can be used for text document clustering? \t - \t How do I use Latent Semantic Analysis(LSA) for document classification, preferably in java?, label (0) vs prediction (1)\n",
            "Mismatch Betweeen What are the derivations in class 12 physics in the CBSE Board? \t - \t For class 12 which board is the best, the CBSE or the MP board?, label (0) vs prediction (1)\n",
            "Mismatch Betweeen What is a participatory note? \t - \t What are participatory notes?, label (0) vs prediction (1)\n",
            "Mismatch Betweeen What are the safety precautions on handling shotguns proposed by the NRA in South Carolina? \t - \t What are the safety precautions on handling shotguns proposed by the NRA in New Hampshire?, label (1) vs prediction (0)\n",
            "Mismatch Betweeen Is Hillary Clinton a pathological liar? \t - \t Why do some people believe that Hillary Clinton is a liar?, label (1) vs prediction (0)\n",
            "Mismatch Betweeen What is the job scope for a tendering engineer? \t - \t What is the scope of electrical engineering jobs abroad?, label (1) vs prediction (0)\n",
            "Mismatch Betweeen Am I a competitive candidate for the London School of economics? \t - \t In the light of the Quran, sunnah, and scholarly judgements, can anyone confirm whether it's allowed for a Muslim girl to marry a Christian guy?, label (0) vs prediction (1)\n",
            "Mismatch Betweeen What are the best investment strategies? \t - \t What is the best investment strategy for 2015?, label (0) vs prediction (1)\n",
            "Mismatch Betweeen What does \"chag chanukah sameach\" mean in Hebrew? When and how is the phrase used? \t - \t What does \"chanukah sameach\" mean in Hebrew? How is such term used in a sentence?, label (0) vs prediction (1)\n",
            "Mismatch Betweeen Should India declare a war on Pakistan and Why? \t - \t Will India declare war against Pakistan?, label (0) vs prediction (1)\n",
            "Mismatch Betweeen How do I reduce sleeping time so as to give more time to studies? \t - \t How can I reduce my sleep hours at night in order to find more time for my studies?, label (0) vs prediction (1)\n",
            "Mismatch Betweeen What are some additional important courses to do for a mechanical engineer? \t - \t What is the best additional course for mechanical engineers?, label (0) vs prediction (1)\n",
            "Mismatch Betweeen What is the scariest horror movie that you have ever seen? \t - \t Which is the most frightening horror movie you've seen?, label (1) vs prediction (0)\n",
            "Mismatch Betweeen Do I have to pay corporate taxes on my business profits if I reinvest 100% of the profits back into the business? What if my starup lost $20,000 the previous year then made $100,000 this year in profit; tax $80,000? \t - \t If a person in the UK imports £1,000,000 worth of goods from China and pays £100,000 taxes for duty, can the £9,000,000 that he makes from the profit go into a normal bank account without paying any extra (income) taxes? Or is this considered a job?, label (0) vs prediction (1)\n",
            "Mismatch Betweeen What can you tell me about Myrica californica aka Pacific Waxmyrtle? \t - \t Why won't Quora let me change the \"Educational Games\" topic photo?, label (1) vs prediction (0)\n",
            "Mismatch Betweeen Is there any interesting way to understand money? \t - \t What is money?, label (0) vs prediction (1)\n",
            "Mismatch Betweeen What is the meaning of Hindi word ‘भेदभाव’ (Bhedbhaav)? \t - \t What is the meaning of Hindi word 'sampann'?, label (1) vs prediction (0)\n",
            "Mismatch Betweeen How do I start learning cyber security/ network security form scratch? \t - \t How do I start in the security field to become a professional in cyber security from level zero?, label (0) vs prediction (1)\n",
            "Mismatch Betweeen Which type of engine uses maximum air fuel ratio? \t - \t What is the type of engine used in flight?, label (0) vs prediction (1)\n",
            "Mismatch Betweeen How can I improve my poker skills? \t - \t How can I improve my poker game?, label (1) vs prediction (0)\n",
            "Mismatch Betweeen INDIA: When the caste discrimination is based on social status, then why reservation should be based upon economic status? \t - \t India: Should reservation be given on the basis of caste or economic status? Why?, label (0) vs prediction (1)\n",
            "Mismatch Betweeen How should I give my boyfriend space without losing him? \t - \t I am meeting my boyfriend after 2 years. What should I wear and what must I give him?, label (1) vs prediction (0)\n",
            "Mismatch Betweeen May I take rabies injection after a week of dog bite? \t - \t My pet dog bite me should I get rabies shot?, label (0) vs prediction (1)\n",
            "Mismatch Betweeen What is it really like to teach high school? \t - \t What is teaching really like?, label (0) vs prediction (1)\n",
            "Mismatch Betweeen How can I control my emotions and actions? \t - \t How do I control emotions and reactions in nervousness?, label (0) vs prediction (1)\n",
            "Mismatch Betweeen Why do Indian consultancies in the US fake resumes and market candidates for IT jobs? Why has this practice continued? \t - \t Are there any IT consultancies in the US that don't fake your resume?, label (0) vs prediction (1)\n",
            "Mismatch Betweeen What are Hillary Clinton's plans on relations with India? \t - \t If Hillary Clinton wins this election, what will be her policy for India?, label (0) vs prediction (1)\n",
            "Mismatch Betweeen What can I eat every day to be more healthy? \t - \t Is it healthy to eat one chicken every day?, label (1) vs prediction (0)\n",
            "Mismatch Betweeen If the Earth is spinning at 1,675 km/hour, then why can't I feel anything? \t - \t If the Earth is is spinning at 1,675 km/hour, then why does one rotation take so long?, label (0) vs prediction (1)\n",
            "Mismatch Betweeen What happens when you turn on a computer? \t - \t What processes take place when you turn on the computer?, label (0) vs prediction (1)\n",
            "Mismatch Betweeen What can I gift my husband on his birthday? \t - \t What should I gift my husband on his birthday?, label (0) vs prediction (1)\n",
            "Mismatch Betweeen Has anyone had sex with Rocco Siffredi? How was it? Was it the best sex ever in your life? \t - \t I always fantasize about having sex with Rocco Siffredi. Has anyone had sex with Rocco or someone with a dick like him? Was it the best sex ever?, label (1) vs prediction (0)\n",
            "Mismatch Betweeen What are the prerequisites for learning SAS? \t - \t What are prerequisites for learning either SPSS or SAS?, label (1) vs prediction (0)\n",
            "Mismatch Betweeen Advantage let elderly live in nursing home? \t - \t Are nursing homes actually good for elderly people?, label (1) vs prediction (0)\n",
            "Mismatch Betweeen Can Donald Trump keep his campaign promises? \t - \t Will Donald Trump carry out all of his promises from the election that he won?, label (0) vs prediction (1)\n",
            "Mismatch Betweeen Perfectly elastic supply? \t - \t What are the real examples of perfectly elastic supply?, label (1) vs prediction (0)\n",
            "Mismatch Betweeen How ca n I improve my communication skill? \t - \t How can I improve my communication effectively?, label (1) vs prediction (0)\n",
            "Mismatch Betweeen What are your 2017 resolutions and why? \t - \t What's your New Year resolutions for 2017 and what will you do to accomplish your goal?, label (1) vs prediction (0)\n",
            "Mismatch Betweeen Are Hillary Clinton's health issues that serious or is the media blowing it out of proportion? \t - \t Does Hillary Clinton have a serious health issue that people would care about?, label (0) vs prediction (1)\n",
            "Mismatch Betweeen How many of you think that Indian women and girls enjoy being groped in Public Transport? \t - \t Can an elected Corporator's office be manned by his spouse officially (GHMC)?, label (0) vs prediction (1)\n",
            "Mismatch Betweeen Do the new ₹2000 notes really have GPS chips or something similar? \t - \t Is it true that the new 2000 rupees notes have a GPS chips?, label (1) vs prediction (0)\n",
            "Mismatch Betweeen What are some songs similar to Numb (Linkin Park)? \t - \t What are some songs similar to \"Numb\" by Linkin Park?, label (1) vs prediction (0)\n",
            "Mismatch Betweeen What would the world be like if humans were a solitary species? \t - \t What would the world be like if humans were aquatic?, label (1) vs prediction (0)\n",
            "Mismatch Betweeen What's the best tablet app for fashion design? \t - \t What's the best tablet and app for fashion design?, label (1) vs prediction (0)\n",
            "Mismatch Betweeen What are some sweet names that you can call your girlfriend? \t - \t What are the possible nicknames for my girlfriend named Pooja?, label (1) vs prediction (0)\n",
            "Mismatch Betweeen How could I start my business? \t - \t What are some ways to start a business?, label (0) vs prediction (1)\n",
            "Mismatch Betweeen What side business can make you $200 a week? \t - \t What side business can make you $1000-$2000 a week?, label (1) vs prediction (0)\n",
            "Mismatch Betweeen Why is Saraswati worshipped? \t - \t How is Durga worshiped?, label (1) vs prediction (0)\n",
            "Mismatch Betweeen When & how did Switzerland become so rich? \t - \t How did the Switzerland become rich being a landlocked country?, label (0) vs prediction (1)\n",
            "Mismatch Betweeen How can I stop worrying about what other people think? \t - \t How do I ignore what other people think of me?, label (1) vs prediction (0)\n",
            "Mismatch Betweeen What is the real mystery behind Padmanabhaswamy Temple's seventh vault? \t - \t What's the mystery behind Tanjore temples?, label (0) vs prediction (1)\n",
            "Mismatch Betweeen What do you think about Modi's new policy on the ban of Rs 500 and Rs 1000 notes? \t - \t What do you think about ban on Rs. 500 and Rs. 1000 currency notes?, label (1) vs prediction (0)\n",
            "Mismatch Betweeen Who is the founder of OSBN®? \t - \t Who is the founder of Telemainia?, label (0) vs prediction (1)\n",
            "Mismatch Betweeen Which is the best driving school near Tamparam and how much does it cost? \t - \t Which is the best motor driving school in amritsar and how much does it cost?, label (1) vs prediction (0)\n",
            "Mismatch Betweeen What was the most inappropriate thing you have been asked to do or have done while babysitting? \t - \t What is the most paranormal thing that has ever happened to you?, label (1) vs prediction (0)\n",
            "Mismatch Betweeen How could Snape love lily so much? \t - \t Did Snape love Lily?, label (1) vs prediction (0)\n",
            "Mismatch Betweeen Who is the richest person on Quora? \t - \t Who is richest person on Quora?, label (1) vs prediction (0)\n",
            "Mismatch Betweeen What is the best moment of your life so far? \t - \t Which moment was one of the best moment of your life?, label (1) vs prediction (0)\n",
            "Mismatch Betweeen What are some great examples of biodegradable and non-biodegradable materials? \t - \t What are biodegradable and non-biodegradable materials with examples?, label (0) vs prediction (1)\n",
            "Mismatch Betweeen Can a shotgun microphone be useful in a music recording studio? \t - \t How can we connect a shotgun microphone to a Zoom Q3 Handy Video Recorder?, label (1) vs prediction (0)\n",
            "Mismatch Betweeen Where can I get LSD in Hyderabad? \t - \t Where can I get a LSD in Hyderabad?, label (1) vs prediction (0)\n",
            "Mismatch Betweeen Will Donald Trump sexually harass people while in White House? \t - \t How do you start dating again after years on being single?, label (0) vs prediction (1)\n",
            "Mismatch Betweeen What are the most intriguing abandoned places and spaces in Shanghai? \t - \t What are some of the most intriguing abandoned places and spaces?, label (1) vs prediction (0)\n",
            "Mismatch Betweeen How can I get traffic in my website? \t - \t How can I increase the traffic on a site?, label (0) vs prediction (1)\n",
            "Mismatch Betweeen How can I recover data on a broken iPhone? \t - \t How can I recover data from my broken iPhone?, label (1) vs prediction (0)\n",
            "Mismatch Betweeen It has been three years, I shifted in my new apartment but the builder has not given occupancy certificate (OC). What are our (flat owners) options? \t - \t Real Estate in India: Is it a good decision to buy a flat in Pune? Are the properties in Pune over priced? If yes, when and in which area should I go for a 2/3 BHK apartment with some good builder?, label (0) vs prediction (1)\n",
            "Mismatch Betweeen Can we make tweet colorful? \t - \t How many tweet that the average user tweets a day?, label (0) vs prediction (1)\n",
            "Mismatch Betweeen How do I start preparation for civil services exams? \t - \t How do I prepare for civil services?, label (1) vs prediction (0)\n",
            "Mismatch Betweeen Why do most Indians not use toilet paper? \t - \t Has there ever been a reference to using toilets for defecation/urination in Indian Mythology?, label (0) vs prediction (1)\n",
            "Mismatch Betweeen How can I build traffic for my website? \t - \t What is the best way to drive traffic to a website?, label (0) vs prediction (1)\n",
            "Mismatch Betweeen Is it possible to travel back or forward in time? \t - \t Is it possible to travel time with real life?, label (1) vs prediction (0)\n",
            "Mismatch Betweeen Why does a company buy back its own shares? \t - \t Who owns the shares if the company buys back its own shares?, label (0) vs prediction (1)\n",
            "Mismatch Betweeen How long would it take me to learn Java? \t - \t How long does it take to learn Java?, label (1) vs prediction (0)\n",
            "Mismatch Betweeen What are the health effects, if any, of honey and lemon water? \t - \t What are the health effects of being on a gum and water diet?, label (1) vs prediction (0)\n",
            "Mismatch Betweeen Trading, what is the best indicator or indicators to determine whether trend is about to turn or a lot further to run? \t - \t Which are the best indicators to identify short term trend reversals in stock market trading?, label (0) vs prediction (1)\n",
            "Mismatch Betweeen How do I make money online in india for free? \t - \t How should I make money online for free?, label (1) vs prediction (0)\n",
            "Mismatch Betweeen What is it like to be a millionare? \t - \t What does it feel like to be a millionare?, label (1) vs prediction (0)\n",
            "Mismatch Betweeen What is the formula of sodium phosphate? \t - \t What is the chemical formula for sodium carbonate?, label (0) vs prediction (1)\n",
            "Mismatch Betweeen Why do Kashmir people want to join Pakistan? (Only Kashmir people answer)? \t - \t Why do Kashmir people want to join Pakistan? (Only Kashmir people ansewr)?, label (0) vs prediction (1)\n",
            "Mismatch Betweeen What is the best beach in Goa? \t - \t Which is the best beach resorts for romantic views in Goa?, label (0) vs prediction (1)\n",
            "Mismatch Betweeen What are some of the amazing Instagram bios? \t - \t What are some of the most amazing Instagram bios?, label (1) vs prediction (0)\n",
            "Mismatch Betweeen Are there any creams which help me to gain weight? \t - \t Does butter help to gain weight?, label (0) vs prediction (1)\n",
            "Mismatch Betweeen How do smart criminals get away from the law? \t - \t Does love failure causes epilepsy?, label (1) vs prediction (0)\n",
            "Mismatch Betweeen What are the basic requirements for developing an IT software Company? \t - \t What are some basic words used by software companies?, label (0) vs prediction (1)\n",
            "Mismatch Betweeen Can 3G mobile support relience Jio sim? \t - \t Can I use Reliance Jio sim in 3G phones?, label (1) vs prediction (0)\n",
            "Mismatch Betweeen Can we stop global warming? \t - \t Can we stop global warming? What are some ways and ideas to stop it?, label (1) vs prediction (0)\n",
            "Mismatch Betweeen Where can I get highest quality, tastiest cupcakes across the Gold Coast? \t - \t Where can I buy best quality gourmet cupcakes in Gold Coast?, label (1) vs prediction (0)\n",
            "Mismatch Betweeen What can I do if my smoke alarm is beeping every minute? \t - \t Why is my smoke alarm beeping every minute?, label (0) vs prediction (1)\n",
            "Mismatch Betweeen How do we achieve world peace? \t - \t What are the 3 biggest obstacles to world peace?, label (0) vs prediction (1)\n",
            "Mismatch Betweeen What was your most embarrassing moment during high school? \t - \t What was the most embarrassing moment you had during high school?, label (0) vs prediction (1)\n",
            "Mismatch Betweeen What are some of the main components of a computer? What functions do they serve? \t - \t What are some components of a computer?, label (1) vs prediction (0)\n",
            "Mismatch Betweeen How do I change the delivery of emails from the promotions tab to my Inbox in Gmail? \t - \t How do I delete all the emails in my Gmail inbox by one action only?, label (1) vs prediction (0)\n",
            "Mismatch Betweeen What is the longest throw/pass (yards at the catch) in NFL or NCAA history? \t - \t What was the longest touchdown pass in NFL history?, label (1) vs prediction (0)\n",
            "Mismatch Betweeen How do I remove hard water stains from a toilet bowl? \t - \t What are the best ways to remove hard water stains from shower doors?, label (0) vs prediction (1)\n",
            "Mismatch Betweeen ELI5: How can I use Lagrange Interpolation? Are there other, easier to use, algorithms? \t - \t What algorithms are used in Facetune?, label (1) vs prediction (0)\n",
            "Mismatch Betweeen Who is the best hacker I should contact? \t - \t Who is the best hacker that can help me?, label (0) vs prediction (1)\n",
            "Mismatch Betweeen How do I know if someone viewed my profile on Whatsapp? \t - \t Will someone know if I check their WhatsApp last seen status often?, label (1) vs prediction (0)\n",
            "Mismatch Betweeen What is the secret behind Bermuda triangle? \t - \t What is the truth behind the Bermuda Triangle?, label (0) vs prediction (1)\n",
            "Mismatch Betweeen How is the word 'arrogate' used in a sentence? \t - \t How is the word \"arrogant\" used in a sentence?, label (1) vs prediction (0)\n",
            "Mismatch Betweeen How can I unlock my Samsung Galaxy S3? \t - \t How do you backup your Samsung Galaxy S3?, label (1) vs prediction (0)\n",
            "Mismatch Betweeen What is your favourite flower and why? \t - \t Which is your favourite flower?, label (0) vs prediction (1)\n",
            "Mismatch Betweeen I'm so awkward when meeting new people and when I sit with someone my mind goes blank and cant think of anything to talk about, how can I change that? \t - \t Why I get so easily intimidated when I meet some new people ? And how can I overcome this thing?, label (1) vs prediction (0)\n",
            "Mismatch Betweeen What would you do if you fall in love with your best friends? \t - \t What would you do if you fell in love with your best friend?, label (1) vs prediction (0)\n",
            "Mismatch Betweeen How successful is Movember? \t - \t What is Movember?, label (1) vs prediction (0)\n",
            "Mismatch Betweeen What are some hacks for Uber in India? \t - \t What are the best hacks while using Uber in India?, label (0) vs prediction (1)\n",
            "Mismatch Betweeen What happens to the body and head after beheading? Does it feel something or immediately drop dead? \t - \t What'll happen if we leave a dead person's body out of the atmosphere? Does it work like mummification?, label (1) vs prediction (0)\n",
            "Mismatch Betweeen Can a IAS officer give order to an IPS officer? \t - \t Can an IAS officer give any order to an IPS officer?, label (0) vs prediction (1)\n",
            "Mismatch Betweeen Can I tell my teacher about my family problems? \t - \t Should I tell my teacher about a family problem?, label (1) vs prediction (0)\n",
            "Mismatch Betweeen What is our purpose in being here? \t - \t What is the purpose of existance?, label (1) vs prediction (0)\n",
            "Mismatch Betweeen Do new 2000 INR really have a NGC (Nano GPS Chip), or is it just a rumour? \t - \t Will Rs. 2000 currency note really come with A GPS chip? Or it is just a rumor?, label (1) vs prediction (0)\n",
            "Mismatch Betweeen Is the ban on NDTV justified? \t - \t What are your views on one day ban on NDTV?, label (0) vs prediction (1)\n",
            "Mismatch Betweeen What does it mean if you dream about a person you don't know? \t - \t What does it mean when you dream about someone you don't know or have any communication with in real life, but you’re dating them in the dream?, label (0) vs prediction (1)\n",
            "Mismatch Betweeen What's the best BitTorrent client on Linux? \t - \t What is the best BitTorrent client?, label (1) vs prediction (0)\n",
            "Mismatch Betweeen How do I earn more money through internet/online? \t - \t How can I earn money on internet?, label (1) vs prediction (0)\n",
            "Mismatch Betweeen How does a boy behave when he falls in love with a girl? Are there any different behaviors between a boy and a girl when they fall in love with someone? \t - \t Why do I fall in love with each beautiful girl I see?, label (0) vs prediction (1)\n",
            "Mismatch Betweeen What is the next Precure season in 2018? \t - \t What is the next Precure season in 2017?, label (1) vs prediction (0)\n",
            "Mismatch Betweeen Check Viber call history of any number? \t - \t Is there any Android app for free calls, not like Viber or WeChat?, label (1) vs prediction (0)\n",
            "Mismatch Betweeen How do you post question in Quora? I posted many but rejected. \t - \t How do I post a question in quora?, label (1) vs prediction (0)\n",
            "Mismatch Betweeen Why is my Pug/Cavalier mix puppy afraid of cats? \t - \t Why is my American Staffy/Kelpie mix afraid of cats?, label (0) vs prediction (1)\n",
            "Mismatch Betweeen What is Porto, Portugal well-known for? \t - \t Did Portugal deserve to win the Euros?, label (0) vs prediction (1)\n",
            "Mismatch Betweeen Is Microsoft out-innovating Apple? \t - \t Is Microsoft more innovative than Apple?, label (0) vs prediction (1)\n",
            "Mismatch Betweeen What are your top 10 books of all time? \t - \t What are your top 10 favorite reads?, label (1) vs prediction (0)\n",
            "Mismatch Betweeen If an American woman is married to anyone from Canada, the UK, Australia, or South Africa, can she still be eligible to contest as a governor of any state in the US or as a president of the US? \t - \t Will US & Japan issue a joint statement to call Australia to recognise the legitimacy of the private Tribunal as Australia has denied the legitimacy?, label (0) vs prediction (1)\n",
            "Mismatch Betweeen How can one get a WiFi password using an IP address in an Android mobile? \t - \t How do I hack WiFi passwords by mobile phone?, label (0) vs prediction (1)\n",
            "Mismatch Betweeen Is it safe to browse the dark web? \t - \t Is the \"dark web\" hackable?, label (0) vs prediction (1)\n",
            "Mismatch Betweeen Is Iran part of the Arab countries? Is it like what media say? \t - \t Does Iran belong to Arab world?, label (1) vs prediction (0)\n",
            "Mismatch Betweeen Which is better and more efficient for cooking, LPG or an induction plate? \t - \t How does an induction cooker work? Is it bad for health if we eat food cooked in it?, label (1) vs prediction (0)\n",
            "Mismatch Betweeen Why did white people conquer the world and enslave black people instead of the other way around? \t - \t Can white people date black people?, label (1) vs prediction (0)\n",
            "Mismatch Betweeen Why does decimal expansion for k/7 look like 1/7 with digits shifted left? \t - \t Why does decimal expansion for 2/7 look like 1/7 with digits shifted left?, label (0) vs prediction (1)\n",
            "Mismatch Betweeen What is a moral of bhagvad Geeta? \t - \t How can you relate the Mahabharat and Bhagvad Geeta to your life?, label (0) vs prediction (1)\n",
            "Mismatch Betweeen Which is a better choice: a MacBook Pro 2016 or 2015? \t - \t Should I buy the 2016 or 2015 MacBook Pro?, label (1) vs prediction (0)\n",
            "Mismatch Betweeen Why don't more men wear \"running skirts\" for running and hiking? \t - \t Why don't men wear skirts?, label (1) vs prediction (0)\n",
            "0.6528803545051699\n"
          ],
          "name": "stdout"
        }
      ]
    },
    {
      "cell_type": "markdown",
      "metadata": {
        "id": "QdbvnMYHVhho",
        "colab_type": "text"
      },
      "source": [
        "# **Custom Model**"
      ]
    },
    {
      "cell_type": "code",
      "metadata": {
        "id": "h355NpHZ0zv0",
        "colab_type": "code",
        "colab": {}
      },
      "source": [
        "class Model:\n",
        "    # initalize model\n",
        "    def __init__(self, model_class, tokenizer_class, pretrained_weights):\n",
        "        self.model = model_class.from_pretrained(pretrained_weights)\n",
        "        \n",
        "    # Generate embeddings\n",
        "    def get_embeddings(self, data):\n",
        "        return\n",
        "        \n",
        "    # \n",
        "    def train(self, data):\n",
        "        return\n",
        "    \n",
        "    # \n",
        "    def test(self, data):\n",
        "        return"
      ],
      "execution_count": 0,
      "outputs": []
    }
  ]
}